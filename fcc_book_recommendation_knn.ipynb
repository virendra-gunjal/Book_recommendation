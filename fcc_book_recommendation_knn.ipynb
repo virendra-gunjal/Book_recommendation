{
  "cells": [
    {
      "cell_type": "code",
      "execution_count": 2,
      "metadata": {
        "id": "Y1onB6kUvo4Z"
      },
      "outputs": [],
      "source": [
        "# import libraries (you may add additional imports but you may not have to)\n",
        "import numpy as np\n",
        "import pandas as pd\n",
        "from scipy.sparse import csr_matrix\n",
        "from sklearn.neighbors import NearestNeighbors\n",
        "import matplotlib.pyplot as plt"
      ]
    },
    {
      "cell_type": "code",
      "execution_count": 3,
      "metadata": {
        "id": "iAQGqqO_vo4d",
        "outputId": "43f6821d-3ea9-447a-a52d-64c2ed9d0428",
        "colab": {
          "base_uri": "https://localhost:8080/"
        }
      },
      "outputs": [
        {
          "output_type": "stream",
          "name": "stdout",
          "text": [
            "--2025-08-22 18:20:14--  https://cdn.freecodecamp.org/project-data/books/book-crossings.zip\n",
            "Resolving cdn.freecodecamp.org (cdn.freecodecamp.org)... 104.26.2.33, 104.26.3.33, 172.67.70.149, ...\n",
            "Connecting to cdn.freecodecamp.org (cdn.freecodecamp.org)|104.26.2.33|:443... connected.\n",
            "HTTP request sent, awaiting response... 200 OK\n",
            "Length: 26085508 (25M) [application/zip]\n",
            "Saving to: ‘book-crossings.zip’\n",
            "\n",
            "book-crossings.zip  100%[===================>]  24.88M  19.7MB/s    in 1.3s    \n",
            "\n",
            "2025-08-22 18:20:16 (19.7 MB/s) - ‘book-crossings.zip’ saved [26085508/26085508]\n",
            "\n",
            "Archive:  book-crossings.zip\n",
            "  inflating: BX-Book-Ratings.csv     \n",
            "  inflating: BX-Books.csv            \n",
            "  inflating: BX-Users.csv            \n"
          ]
        }
      ],
      "source": [
        "# get data files\n",
        "!wget https://cdn.freecodecamp.org/project-data/books/book-crossings.zip\n",
        "\n",
        "!unzip book-crossings.zip\n",
        "\n",
        "books_filename = 'BX-Books.csv'\n",
        "ratings_filename = 'BX-Book-Ratings.csv'"
      ]
    },
    {
      "cell_type": "code",
      "execution_count": 4,
      "metadata": {
        "id": "NClILWOiEd6Q"
      },
      "outputs": [],
      "source": [
        "# import csv data into dataframes\n",
        "df_books = pd.read_csv(\n",
        "    books_filename,\n",
        "    encoding = \"ISO-8859-1\",\n",
        "    sep=\";\",\n",
        "    header=0,\n",
        "    names=['isbn', 'title', 'author'],\n",
        "    usecols=['isbn', 'title', 'author'],\n",
        "    dtype={'isbn': 'str', 'title': 'str', 'author': 'str'})\n",
        "\n",
        "df_ratings = pd.read_csv(\n",
        "    ratings_filename,\n",
        "    encoding = \"ISO-8859-1\",\n",
        "    sep=\";\",\n",
        "    header=0,\n",
        "    names=['user', 'isbn', 'rating'],\n",
        "    usecols=['user', 'isbn', 'rating'],\n",
        "    dtype={'user': 'int32', 'isbn': 'str', 'rating': 'float32'})"
      ]
    },
    {
      "cell_type": "code",
      "execution_count": 9,
      "metadata": {
        "id": "f5ZUd-L1SQz7"
      },
      "outputs": [],
      "source": [
        "import pandas as pd\n",
        "from sklearn.neighbors import NearestNeighbors\n",
        "\n",
        "# --- Step 1: Filter dataset ---\n",
        "\n",
        "# Keep users with >= 200 ratings\n",
        "ratings_per_user = df_ratings['user'].value_counts()\n",
        "df_ratings_filtered = df_ratings[df_ratings['user'].isin(ratings_per_user[ratings_per_user >= 200].index)]\n",
        "\n",
        "# Keep books with >= 100 ratings\n",
        "ratings_per_book = df_ratings_filtered['isbn'].value_counts()\n",
        "df_ratings_filtered = df_ratings_filtered[df_ratings_filtered['isbn'].isin(ratings_per_book[ratings_per_book >= 100].index)]\n",
        "\n",
        "# --- Step 2: Create book-user matrix ---\n",
        "book_user_matrix = df_ratings_filtered.pivot_table(index='isbn', columns='user', values='rating').fillna(0)\n",
        "\n",
        "# Mappings (isbn <-> title)\n",
        "isbn_to_title = df_books.set_index('isbn')['title'].to_dict()\n",
        "title_to_isbn = {title: isbn for isbn, title in isbn_to_title.items() if pd.notna(title)}\n",
        "\n",
        "# --- Step 3: Fit NearestNeighbors ---\n",
        "model = NearestNeighbors(metric='cosine', algorithm='brute')\n",
        "model.fit(book_user_matrix.values)\n",
        "\n",
        "# --- Step 4: Define recommender ---\n",
        "def get_recommends(book_title):\n",
        "    if book_title not in title_to_isbn:\n",
        "        raise ValueError(f\"Book '{book_title}' not found in dataset.\")\n",
        "\n",
        "    isbn = title_to_isbn[book_title]\n",
        "\n",
        "    # Ensure ISBN exists in filtered matrix\n",
        "    if isbn not in book_user_matrix.index:\n",
        "        raise ValueError(f\"Book '{book_title}' exists but was filtered out (too few ratings).\")\n",
        "\n",
        "    idx = list(book_user_matrix.index).index(isbn)\n",
        "\n",
        "    distances, indices = model.kneighbors([book_user_matrix.iloc[idx].values], n_neighbors=6)\n",
        "\n",
        "    recommendations = []\n",
        "    for dist, neighbor_idx in zip(distances[0][1:], indices[0][1:]):  # skip the book itself\n",
        "        neighbor_isbn = book_user_matrix.index[neighbor_idx]\n",
        "        neighbor_title = isbn_to_title.get(neighbor_isbn, \"Unknown Title\")\n",
        "        recommendations.append([neighbor_title, float(dist)])  # cast to float for clean output\n",
        "\n",
        "    return [book_title, recommendations]\n"
      ]
    },
    {
      "cell_type": "code",
      "execution_count": 10,
      "metadata": {
        "id": "jd2SLCh8oxMh"
      },
      "outputs": [],
      "source": [
        "def get_recommends(book_title):\n",
        "    if book_title not in title_to_isbn:\n",
        "        raise ValueError(f\"Book '{book_title}' not found in dataset.\")\n",
        "\n",
        "    isbn = title_to_isbn[book_title]\n",
        "    if isbn not in book_user_matrix.index:\n",
        "        raise ValueError(f\"Book '{book_title}' exists but was filtered out.\")\n",
        "\n",
        "    idx = list(book_user_matrix.index).index(isbn)\n",
        "    distances, indices = model.kneighbors([book_user_matrix.iloc[idx].values], n_neighbors=6)\n",
        "\n",
        "    recommendations = []\n",
        "    for dist, neighbor_idx in zip(distances[0][1:], indices[0][1:]):  # skip itself\n",
        "        neighbor_isbn = book_user_matrix.index[neighbor_idx]\n",
        "        neighbor_title = isbn_to_title.get(neighbor_isbn, \"Unknown Title\")\n",
        "        recommendations.append([neighbor_title, round(float(dist), 2)])\n",
        "\n",
        "    return [book_title, recommendations]\n"
      ]
    },
    {
      "cell_type": "code",
      "source": [
        "books = get_recommends(\"Where the Heart Is (Oprah's Book Club (Paperback))\")\n",
        "print(books)\n"
      ],
      "metadata": {
        "id": "YayBROZuBXvk",
        "outputId": "2983e8a9-2068-4884-e782-fe2e0f526052",
        "colab": {
          "base_uri": "https://localhost:8080/"
        }
      },
      "execution_count": 11,
      "outputs": [
        {
          "output_type": "stream",
          "name": "stdout",
          "text": [
            "[\"Where the Heart Is (Oprah's Book Club (Paperback))\", [['The Lovely Bones: A Novel', 0.72], [\"The Pilot's Wife : A Novel\", 0.82], ['The Joy Luck Club', 0.82], ['The Notebook', 0.82], ['Bel Canto: A Novel', 0.82]]]\n"
          ]
        }
      ]
    }
  ],
  "metadata": {
    "colab": {
      "name": "fcc_book_recommendation_knn.ipynb",
      "provenance": []
    },
    "kernelspec": {
      "display_name": "Python 3",
      "language": "python",
      "name": "python3"
    },
    "language_info": {
      "codemirror_mode": {
        "name": "ipython",
        "version": 3
      },
      "file_extension": ".py",
      "mimetype": "text/x-python",
      "name": "python",
      "nbconvert_exporter": "python",
      "pygments_lexer": "ipython3",
      "version": "3.6.5"
    }
  },
  "nbformat": 4,
  "nbformat_minor": 0
}